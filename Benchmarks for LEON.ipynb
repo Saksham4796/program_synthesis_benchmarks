{
 "cells": [
  {
   "cell_type": "markdown",
   "id": "897c9e1a",
   "metadata": {},
   "source": [
    "## List Operations"
   ]
  },
  {
   "cell_type": "code",
   "execution_count": 1,
   "id": "3fe24363",
   "metadata": {},
   "outputs": [
    {
     "name": "stdout",
     "output_type": "stream",
     "text": [
      "List(1, 2, 10, 3, 4, 5)\n"
     ]
    },
    {
     "data": {
      "text/plain": [
       "defined \u001b[32mfunction\u001b[39m \u001b[36minsertAt\u001b[39m\n",
       "\u001b[36mmyList\u001b[39m: \u001b[32mList\u001b[39m[\u001b[32mInt\u001b[39m] = \u001b[33mList\u001b[39m(\u001b[32m1\u001b[39m, \u001b[32m2\u001b[39m, \u001b[32m3\u001b[39m, \u001b[32m4\u001b[39m, \u001b[32m5\u001b[39m)\n",
       "\u001b[36mupdatedList\u001b[39m: \u001b[32mList\u001b[39m[\u001b[32mInt\u001b[39m] = \u001b[33mList\u001b[39m(\u001b[32m1\u001b[39m, \u001b[32m2\u001b[39m, \u001b[32m10\u001b[39m, \u001b[32m3\u001b[39m, \u001b[32m4\u001b[39m, \u001b[32m5\u001b[39m)"
      ]
     },
     "execution_count": 1,
     "metadata": {},
     "output_type": "execute_result"
    }
   ],
   "source": [
    "// List.Insert\n",
    "\n",
    "def insertAt[A](list: List[A], index: Int, value: A): List[A] = {\n",
    "  val (front, back) = list.splitAt(index)\n",
    "  front ++ (value :: back)\n",
    "}\n",
    "\n",
    "/*\n",
    "This function will split the list at the given index, \n",
    "create two separate lists, and then concatenate three lists together: \n",
    "the first part of the split, a list containing the new element, and the second part of the split. \n",
    "If the index is out of range, the function will either prepend or append the element to the list.\n",
    "*/\n",
    "\n",
    "val myList = List(1, 2, 3, 4, 5)\n",
    "val updatedList = insertAt(myList, 2, 10)\n",
    "println(updatedList) // Prints: List(1, 2, 10, 3, 4, 5)"
   ]
  },
  {
   "cell_type": "code",
   "execution_count": 2,
   "id": "45ab1b81",
   "metadata": {},
   "outputs": [
    {
     "name": "stdout",
     "output_type": "stream",
     "text": [
      "List(1, 3, 2, 4, 2, 5)\n",
      "List(1, 3, 4, 5)\n"
     ]
    },
    {
     "data": {
      "text/plain": [
       "defined \u001b[32mfunction\u001b[39m \u001b[36mremoveFirst\u001b[39m\n",
       "defined \u001b[32mfunction\u001b[39m \u001b[36mremoveAll\u001b[39m\n",
       "\u001b[36mmyList\u001b[39m: \u001b[32mList\u001b[39m[\u001b[32mInt\u001b[39m] = \u001b[33mList\u001b[39m(\u001b[32m1\u001b[39m, \u001b[32m2\u001b[39m, \u001b[32m3\u001b[39m, \u001b[32m2\u001b[39m, \u001b[32m4\u001b[39m, \u001b[32m2\u001b[39m, \u001b[32m5\u001b[39m)\n",
       "\u001b[36mlistWithoutFirst2\u001b[39m: \u001b[32mList\u001b[39m[\u001b[32mInt\u001b[39m] = \u001b[33mList\u001b[39m(\u001b[32m1\u001b[39m, \u001b[32m3\u001b[39m, \u001b[32m2\u001b[39m, \u001b[32m4\u001b[39m, \u001b[32m2\u001b[39m, \u001b[32m5\u001b[39m)\n",
       "\u001b[36mlistWithoutAll2s\u001b[39m: \u001b[32mList\u001b[39m[\u001b[32mInt\u001b[39m] = \u001b[33mList\u001b[39m(\u001b[32m1\u001b[39m, \u001b[32m3\u001b[39m, \u001b[32m4\u001b[39m, \u001b[32m5\u001b[39m)"
      ]
     },
     "execution_count": 2,
     "metadata": {},
     "output_type": "execute_result"
    }
   ],
   "source": [
    "// List.Delete \n",
    "\n",
    "def removeFirst[A](list: List[A], value: A): List[A] = {\n",
    "  val index = list.indexOf(value)\n",
    "  if (index < 0) list // value not found, return original list\n",
    "  else list.take(index) ++ list.drop(index + 1)\n",
    "}\n",
    "\n",
    "def removeAll[A](list: List[A], value: A): List[A] = {\n",
    "  list.filterNot(_ == value)\n",
    "}\n",
    "\n",
    "val myList = List(1, 2, 3, 2, 4, 2, 5)\n",
    "\n",
    "val listWithoutFirst2 = removeFirst(myList, 2)\n",
    "println(listWithoutFirst2)  // Prints: List(1, 3, 2, 4, 2, 5)\n",
    "\n",
    "val listWithoutAll2s = removeAll(myList, 2)\n",
    "println(listWithoutAll2s)  // Prints: List(1, 3, 4, 5)\n"
   ]
  },
  {
   "cell_type": "code",
   "execution_count": 3,
   "id": "697d23e8",
   "metadata": {},
   "outputs": [
    {
     "name": "stdout",
     "output_type": "stream",
     "text": [
      "List(1, 2, 3, 4, 5, 6)\n",
      "List(1, 2, 3, 4, 5, 6)\n",
      "List(1, 2, 3, 4, 5)\n"
     ]
    },
    {
     "data": {
      "text/plain": [
       "\u001b[36mlist1\u001b[39m: \u001b[32mList\u001b[39m[\u001b[32mInt\u001b[39m] = \u001b[33mList\u001b[39m(\u001b[32m1\u001b[39m, \u001b[32m2\u001b[39m, \u001b[32m3\u001b[39m)\n",
       "\u001b[36mlist2\u001b[39m: \u001b[32mList\u001b[39m[\u001b[32mInt\u001b[39m] = \u001b[33mList\u001b[39m(\u001b[32m4\u001b[39m, \u001b[32m5\u001b[39m, \u001b[32m6\u001b[39m)\n",
       "\u001b[36munionList1\u001b[39m: \u001b[32mList\u001b[39m[\u001b[32mInt\u001b[39m] = \u001b[33mList\u001b[39m(\u001b[32m1\u001b[39m, \u001b[32m2\u001b[39m, \u001b[32m3\u001b[39m, \u001b[32m4\u001b[39m, \u001b[32m5\u001b[39m, \u001b[32m6\u001b[39m)\n",
       "\u001b[36mlist3\u001b[39m: \u001b[32mList\u001b[39m[\u001b[32mInt\u001b[39m] = \u001b[33mList\u001b[39m(\u001b[32m1\u001b[39m, \u001b[32m2\u001b[39m, \u001b[32m3\u001b[39m)\n",
       "\u001b[36mlist4\u001b[39m: \u001b[32mList\u001b[39m[\u001b[32mInt\u001b[39m] = \u001b[33mList\u001b[39m(\u001b[32m4\u001b[39m, \u001b[32m5\u001b[39m, \u001b[32m6\u001b[39m)\n",
       "\u001b[36munionList2\u001b[39m: \u001b[32mList\u001b[39m[\u001b[32mInt\u001b[39m] = \u001b[33mList\u001b[39m(\u001b[32m1\u001b[39m, \u001b[32m2\u001b[39m, \u001b[32m3\u001b[39m, \u001b[32m4\u001b[39m, \u001b[32m5\u001b[39m, \u001b[32m6\u001b[39m)\n",
       "\u001b[36mlist5\u001b[39m: \u001b[32mList\u001b[39m[\u001b[32mInt\u001b[39m] = \u001b[33mList\u001b[39m(\u001b[32m1\u001b[39m, \u001b[32m2\u001b[39m, \u001b[32m3\u001b[39m)\n",
       "\u001b[36mlist6\u001b[39m: \u001b[32mList\u001b[39m[\u001b[32mInt\u001b[39m] = \u001b[33mList\u001b[39m(\u001b[32m3\u001b[39m, \u001b[32m4\u001b[39m, \u001b[32m5\u001b[39m)\n",
       "\u001b[36munionList3\u001b[39m: \u001b[32mList\u001b[39m[\u001b[32mInt\u001b[39m] = \u001b[33mList\u001b[39m(\u001b[32m1\u001b[39m, \u001b[32m2\u001b[39m, \u001b[32m3\u001b[39m, \u001b[32m4\u001b[39m, \u001b[32m5\u001b[39m)"
      ]
     },
     "execution_count": 3,
     "metadata": {},
     "output_type": "execute_result"
    }
   ],
   "source": [
    "// List Union \n",
    "\n",
    "val list1 = List(1, 2, 3)\n",
    "val list2 = List(4, 5, 6)\n",
    "val unionList1 = list1 ++ list2\n",
    "println(unionList1) // Prints: List(1, 2, 3, 4, 5, 6)\n",
    "\n",
    "val list3 = List(1, 2, 3)\n",
    "val list4 = List(4, 5, 6)\n",
    "val unionList2 = list3.union(list4)\n",
    "println(unionList2) // Prints: List(1, 2, 3, 4, 5, 6)\n",
    "\n",
    "val list5 = List(1, 2, 3)\n",
    "val list6 = List(3, 4, 5)\n",
    "val unionList3 = (list5 ++ list6).distinct\n",
    "println(unionList3) // Prints: List(1, 2, 3, 4, 5)\n"
   ]
  },
  {
   "cell_type": "code",
   "execution_count": 4,
   "id": "02a5676b",
   "metadata": {},
   "outputs": [
    {
     "name": "stdout",
     "output_type": "stream",
     "text": [
      "List(1, 2)\n",
      "List(6, 7)\n"
     ]
    },
    {
     "data": {
      "text/plain": [
       "\u001b[36mlist1\u001b[39m: \u001b[32mList\u001b[39m[\u001b[32mInt\u001b[39m] = \u001b[33mList\u001b[39m(\u001b[32m1\u001b[39m, \u001b[32m2\u001b[39m, \u001b[32m3\u001b[39m, \u001b[32m4\u001b[39m, \u001b[32m5\u001b[39m)\n",
       "\u001b[36mlist2\u001b[39m: \u001b[32mList\u001b[39m[\u001b[32mInt\u001b[39m] = \u001b[33mList\u001b[39m(\u001b[32m3\u001b[39m, \u001b[32m4\u001b[39m, \u001b[32m5\u001b[39m, \u001b[32m6\u001b[39m, \u001b[32m7\u001b[39m)\n",
       "\u001b[36mdifferenceList1\u001b[39m: \u001b[32mList\u001b[39m[\u001b[32mInt\u001b[39m] = \u001b[33mList\u001b[39m(\u001b[32m1\u001b[39m, \u001b[32m2\u001b[39m)\n",
       "\u001b[36mlist3\u001b[39m: \u001b[32mList\u001b[39m[\u001b[32mInt\u001b[39m] = \u001b[33mList\u001b[39m(\u001b[32m1\u001b[39m, \u001b[32m2\u001b[39m, \u001b[32m3\u001b[39m, \u001b[32m4\u001b[39m, \u001b[32m5\u001b[39m)\n",
       "\u001b[36mlist4\u001b[39m: \u001b[32mList\u001b[39m[\u001b[32mInt\u001b[39m] = \u001b[33mList\u001b[39m(\u001b[32m3\u001b[39m, \u001b[32m4\u001b[39m, \u001b[32m5\u001b[39m, \u001b[32m6\u001b[39m, \u001b[32m7\u001b[39m)\n",
       "\u001b[36mdifferenceList2\u001b[39m: \u001b[32mList\u001b[39m[\u001b[32mInt\u001b[39m] = \u001b[33mList\u001b[39m(\u001b[32m6\u001b[39m, \u001b[32m7\u001b[39m)"
      ]
     },
     "execution_count": 4,
     "metadata": {},
     "output_type": "execute_result"
    }
   ],
   "source": [
    "// List.Diff\n",
    "\n",
    "val list1 = List(1, 2, 3, 4, 5)\n",
    "val list2 = List(3, 4, 5, 6, 7)\n",
    "val differenceList1 = list1 diff list2\n",
    "println(differenceList1) // Prints: List(1, 2)\n",
    "\n",
    "val list3 = List(1, 2, 3, 4, 5)\n",
    "val list4 = List(3, 4, 5, 6, 7)\n",
    "val differenceList2 = list4 diff list3\n",
    "println(differenceList2) // Prints: List(6, 7)\n"
   ]
  },
  {
   "cell_type": "code",
   "execution_count": 5,
   "id": "23a67766",
   "metadata": {},
   "outputs": [
    {
     "name": "stdout",
     "output_type": "stream",
     "text": [
      "List(1, 2)\n",
      "List(3, 4, 5)\n",
      "List(1, 2, 3, 4, 5)\n",
      "List()\n",
      "List()\n",
      "List(1, 2, 3, 4, 5)\n"
     ]
    },
    {
     "data": {
      "text/plain": [
       "\u001b[36mlist1\u001b[39m: \u001b[32mList\u001b[39m[\u001b[32mInt\u001b[39m] = \u001b[33mList\u001b[39m(\u001b[32m1\u001b[39m, \u001b[32m2\u001b[39m, \u001b[32m3\u001b[39m, \u001b[32m4\u001b[39m, \u001b[32m5\u001b[39m)\n",
       "\u001b[36mleft1\u001b[39m: \u001b[32mList\u001b[39m[\u001b[32mInt\u001b[39m] = \u001b[33mList\u001b[39m(\u001b[32m1\u001b[39m, \u001b[32m2\u001b[39m)\n",
       "\u001b[36mright1\u001b[39m: \u001b[32mList\u001b[39m[\u001b[32mInt\u001b[39m] = \u001b[33mList\u001b[39m(\u001b[32m3\u001b[39m, \u001b[32m4\u001b[39m, \u001b[32m5\u001b[39m)\n",
       "\u001b[36mlist2\u001b[39m: \u001b[32mList\u001b[39m[\u001b[32mInt\u001b[39m] = \u001b[33mList\u001b[39m(\u001b[32m1\u001b[39m, \u001b[32m2\u001b[39m, \u001b[32m3\u001b[39m, \u001b[32m4\u001b[39m, \u001b[32m5\u001b[39m)\n",
       "\u001b[36mleft2\u001b[39m: \u001b[32mList\u001b[39m[\u001b[32mInt\u001b[39m] = \u001b[33mList\u001b[39m(\u001b[32m1\u001b[39m, \u001b[32m2\u001b[39m, \u001b[32m3\u001b[39m, \u001b[32m4\u001b[39m, \u001b[32m5\u001b[39m)\n",
       "\u001b[36mright2\u001b[39m: \u001b[32mList\u001b[39m[\u001b[32mInt\u001b[39m] = \u001b[33mList\u001b[39m()\n",
       "\u001b[36mleft3\u001b[39m: \u001b[32mList\u001b[39m[\u001b[32mInt\u001b[39m] = \u001b[33mList\u001b[39m()\n",
       "\u001b[36mright3\u001b[39m: \u001b[32mList\u001b[39m[\u001b[32mInt\u001b[39m] = \u001b[33mList\u001b[39m(\u001b[32m1\u001b[39m, \u001b[32m2\u001b[39m, \u001b[32m3\u001b[39m, \u001b[32m4\u001b[39m, \u001b[32m5\u001b[39m)"
      ]
     },
     "execution_count": 5,
     "metadata": {},
     "output_type": "execute_result"
    }
   ],
   "source": [
    "// List.Split\n",
    "\n",
    "val list1 = List(1, 2, 3, 4, 5)\n",
    "val (left1, right1) = list1.splitAt(2)\n",
    "println(left1) // Prints: List(1, 2)\n",
    "println(right1) // Prints: List(3, 4, 5)\n",
    "\n",
    "val list2 = List(1, 2, 3, 4, 5)\n",
    "val (left2, right2) = list2.splitAt(10)\n",
    "println(left2) // Prints: List(1, 2, 3, 4, 5)\n",
    "println(right2) // Prints: List()\n",
    "\n",
    "val (left3, right3) = list2.splitAt(-1)\n",
    "println(left3) // Prints: List()\n",
    "println(right3) // Prints: List(1, 2, 3, 4, 5)\n"
   ]
  },
  {
   "cell_type": "markdown",
   "id": "dcf087fe",
   "metadata": {},
   "source": [
    "## SortedList Operations"
   ]
  },
  {
   "cell_type": "code",
   "execution_count": 6,
   "id": "05f0bd21",
   "metadata": {},
   "outputs": [
    {
     "name": "stdout",
     "output_type": "stream",
     "text": [
      "List(1, 2, 3, 4, 5)\n",
      "List(1, 2, 3, 4, 5, 6)\n"
     ]
    },
    {
     "data": {
      "text/plain": [
       "defined \u001b[32mfunction\u001b[39m \u001b[36minsertIntoSortedList\u001b[39m\n",
       "\u001b[36msortedList\u001b[39m: \u001b[32mList\u001b[39m[\u001b[32mInt\u001b[39m] = \u001b[33mList\u001b[39m(\u001b[32m1\u001b[39m, \u001b[32m2\u001b[39m, \u001b[32m3\u001b[39m, \u001b[32m4\u001b[39m, \u001b[32m5\u001b[39m)\n",
       "\u001b[36mupdatedList\u001b[39m: \u001b[32mList\u001b[39m[\u001b[32mInt\u001b[39m] = \u001b[33mList\u001b[39m(\u001b[32m1\u001b[39m, \u001b[32m2\u001b[39m, \u001b[32m3\u001b[39m, \u001b[32m4\u001b[39m, \u001b[32m5\u001b[39m)\n",
       "\u001b[36mupdatedList2\u001b[39m: \u001b[32mList\u001b[39m[\u001b[32mInt\u001b[39m] = \u001b[33mList\u001b[39m(\u001b[32m1\u001b[39m, \u001b[32m2\u001b[39m, \u001b[32m3\u001b[39m, \u001b[32m4\u001b[39m, \u001b[32m5\u001b[39m, \u001b[32m6\u001b[39m)"
      ]
     },
     "execution_count": 6,
     "metadata": {},
     "output_type": "execute_result"
    }
   ],
   "source": [
    "// SortedList.Insert\n",
    "\n",
    "def insertIntoSortedList[A](list: List[A], value: A)(implicit ord: Ordering[A]): List[A] = {\n",
    "  if (!list.contains(value)) {\n",
    "    val index = list.indexWhere(ord.gt(_, value))\n",
    "    if (index < 0) list :+ value\n",
    "    else {\n",
    "      val (front, back) = list.splitAt(index)\n",
    "      front ++ (value :: back)\n",
    "    }\n",
    "  } else list // return original list if value is already present\n",
    "}\n",
    "\n",
    "val sortedList = List(1, 2, 3, 4, 5)\n",
    "val updatedList = insertIntoSortedList(sortedList, 3)\n",
    "println(updatedList) // Prints: List(1, 2, 3, 4, 5) because 3 is already in the list\n",
    "\n",
    "val updatedList2 = insertIntoSortedList(sortedList, 6)\n",
    "println(updatedList2) // Prints: List(1, 2, 3, 4, 5, 6) because 6 is not in the list\n",
    "\n"
   ]
  },
  {
   "cell_type": "code",
   "execution_count": 7,
   "id": "2727bf46",
   "metadata": {},
   "outputs": [
    {
     "name": "stdout",
     "output_type": "stream",
     "text": [
      "List(1, 2, 3, 3, 4, 5)\n"
     ]
    },
    {
     "data": {
      "text/plain": [
       "defined \u001b[32mfunction\u001b[39m \u001b[36minsertIntoSortedList\u001b[39m\n",
       "\u001b[36msortedList\u001b[39m: \u001b[32mList\u001b[39m[\u001b[32mInt\u001b[39m] = \u001b[33mList\u001b[39m(\u001b[32m1\u001b[39m, \u001b[32m2\u001b[39m, \u001b[32m3\u001b[39m, \u001b[32m4\u001b[39m, \u001b[32m5\u001b[39m)\n",
       "\u001b[36mupdatedList\u001b[39m: \u001b[32mList\u001b[39m[\u001b[32mInt\u001b[39m] = \u001b[33mList\u001b[39m(\u001b[32m1\u001b[39m, \u001b[32m2\u001b[39m, \u001b[32m3\u001b[39m, \u001b[32m3\u001b[39m, \u001b[32m4\u001b[39m, \u001b[32m5\u001b[39m)"
      ]
     },
     "execution_count": 7,
     "metadata": {},
     "output_type": "execute_result"
    }
   ],
   "source": [
    "// SortedList.Always\n",
    "\n",
    "def insertIntoSortedList[A](list: List[A], value: A)(implicit ord: Ordering[A]): List[A] = {\n",
    "  val index = list.indexWhere(ord.gt(_, value))\n",
    "  if (index < 0) list :+ value\n",
    "  else {\n",
    "    val (front, back) = list.splitAt(index)\n",
    "    front ++ (value :: back)\n",
    "  }\n",
    "}\n",
    "\n",
    "val sortedList = List(1, 2, 3, 4, 5)\n",
    "val updatedList = insertIntoSortedList(sortedList, 3)\n",
    "println(updatedList) // Prints: List(1, 2, 3, 3, 4, 5)\n"
   ]
  },
  {
   "cell_type": "code",
   "execution_count": 8,
   "id": "e5763bd5",
   "metadata": {},
   "outputs": [
    {
     "name": "stdout",
     "output_type": "stream",
     "text": [
      "List(1, 2, 3, 4, 5)\n",
      "List(1, 2, 4, 5)\n"
     ]
    },
    {
     "data": {
      "text/plain": [
       "defined \u001b[32mfunction\u001b[39m \u001b[36mremoveFirstFromSortedList\u001b[39m\n",
       "defined \u001b[32mfunction\u001b[39m \u001b[36mremoveAllFromSortedList\u001b[39m\n",
       "\u001b[36msortedList\u001b[39m: \u001b[32mList\u001b[39m[\u001b[32mInt\u001b[39m] = \u001b[33mList\u001b[39m(\u001b[32m1\u001b[39m, \u001b[32m2\u001b[39m, \u001b[32m3\u001b[39m, \u001b[32m3\u001b[39m, \u001b[32m4\u001b[39m, \u001b[32m5\u001b[39m)\n",
       "\u001b[36mlistWithoutFirst3\u001b[39m: \u001b[32mList\u001b[39m[\u001b[32mInt\u001b[39m] = \u001b[33mList\u001b[39m(\u001b[32m1\u001b[39m, \u001b[32m2\u001b[39m, \u001b[32m3\u001b[39m, \u001b[32m4\u001b[39m, \u001b[32m5\u001b[39m)\n",
       "\u001b[36mlistWithoutAll3s\u001b[39m: \u001b[32mList\u001b[39m[\u001b[32mInt\u001b[39m] = \u001b[33mList\u001b[39m(\u001b[32m1\u001b[39m, \u001b[32m2\u001b[39m, \u001b[32m4\u001b[39m, \u001b[32m5\u001b[39m)"
      ]
     },
     "execution_count": 8,
     "metadata": {},
     "output_type": "execute_result"
    }
   ],
   "source": [
    "// SortedList.Delete\n",
    "\n",
    "def removeFirstFromSortedList[A](list: List[A], value: A): List[A] = {\n",
    "  val index = list.indexOf(value)\n",
    "  if (index < 0) list // value not found, return original list\n",
    "  else list.take(index) ++ list.drop(index + 1)\n",
    "}\n",
    "\n",
    "def removeAllFromSortedList[A](list: List[A], value: A): List[A] = {\n",
    "  list.filterNot(_ == value)\n",
    "}\n",
    "\n",
    "val sortedList = List(1, 2, 3, 3, 4, 5)\n",
    "\n",
    "val listWithoutFirst3 = removeFirstFromSortedList(sortedList, 3)\n",
    "println(listWithoutFirst3)  // Prints: List(1, 2, 3, 4, 5)\n",
    "\n",
    "val listWithoutAll3s = removeAllFromSortedList(sortedList, 3)\n",
    "println(listWithoutAll3s)  // Prints: List(1, 2, 4, 5)\n"
   ]
  },
  {
   "cell_type": "code",
   "execution_count": 9,
   "id": "782fbdbb",
   "metadata": {},
   "outputs": [
    {
     "name": "stdout",
     "output_type": "stream",
     "text": [
      "List(1, 2, 3, 4, 5, 6)\n",
      "List(1, 2, 3, 4, 5, 6)\n",
      "List(1, 2, 3, 4, 5)\n"
     ]
    },
    {
     "data": {
      "text/plain": [
       "\u001b[36mlist1\u001b[39m: \u001b[32mList\u001b[39m[\u001b[32mInt\u001b[39m] = \u001b[33mList\u001b[39m(\u001b[32m1\u001b[39m, \u001b[32m2\u001b[39m, \u001b[32m3\u001b[39m)\n",
       "\u001b[36mlist2\u001b[39m: \u001b[32mList\u001b[39m[\u001b[32mInt\u001b[39m] = \u001b[33mList\u001b[39m(\u001b[32m4\u001b[39m, \u001b[32m5\u001b[39m, \u001b[32m6\u001b[39m)\n",
       "\u001b[36munionList1\u001b[39m: \u001b[32mList\u001b[39m[\u001b[32mInt\u001b[39m] = \u001b[33mList\u001b[39m(\u001b[32m1\u001b[39m, \u001b[32m2\u001b[39m, \u001b[32m3\u001b[39m, \u001b[32m4\u001b[39m, \u001b[32m5\u001b[39m, \u001b[32m6\u001b[39m)\n",
       "\u001b[36mlist3\u001b[39m: \u001b[32mList\u001b[39m[\u001b[32mInt\u001b[39m] = \u001b[33mList\u001b[39m(\u001b[32m1\u001b[39m, \u001b[32m2\u001b[39m, \u001b[32m3\u001b[39m)\n",
       "\u001b[36mlist4\u001b[39m: \u001b[32mList\u001b[39m[\u001b[32mInt\u001b[39m] = \u001b[33mList\u001b[39m(\u001b[32m4\u001b[39m, \u001b[32m5\u001b[39m, \u001b[32m6\u001b[39m)\n",
       "\u001b[36munionList2\u001b[39m: \u001b[32mList\u001b[39m[\u001b[32mInt\u001b[39m] = \u001b[33mList\u001b[39m(\u001b[32m1\u001b[39m, \u001b[32m2\u001b[39m, \u001b[32m3\u001b[39m, \u001b[32m4\u001b[39m, \u001b[32m5\u001b[39m, \u001b[32m6\u001b[39m)\n",
       "\u001b[36mlist5\u001b[39m: \u001b[32mList\u001b[39m[\u001b[32mInt\u001b[39m] = \u001b[33mList\u001b[39m(\u001b[32m1\u001b[39m, \u001b[32m2\u001b[39m, \u001b[32m3\u001b[39m)\n",
       "\u001b[36mlist6\u001b[39m: \u001b[32mList\u001b[39m[\u001b[32mInt\u001b[39m] = \u001b[33mList\u001b[39m(\u001b[32m3\u001b[39m, \u001b[32m4\u001b[39m, \u001b[32m5\u001b[39m)\n",
       "\u001b[36munionList3\u001b[39m: \u001b[32mList\u001b[39m[\u001b[32mInt\u001b[39m] = \u001b[33mList\u001b[39m(\u001b[32m1\u001b[39m, \u001b[32m2\u001b[39m, \u001b[32m3\u001b[39m, \u001b[32m4\u001b[39m, \u001b[32m5\u001b[39m)"
      ]
     },
     "execution_count": 9,
     "metadata": {},
     "output_type": "execute_result"
    }
   ],
   "source": [
    "// SortedList.Union \n",
    "\n",
    "val list1 = List(1, 2, 3)\n",
    "val list2 = List(4, 5, 6)\n",
    "val unionList1 = (list1 ++ list2).sorted\n",
    "println(unionList1) // Prints: List(1, 2, 3, 4, 5, 6)\n",
    "\n",
    "val list3 = List(1, 2, 3)\n",
    "val list4 = List(4, 5, 6)\n",
    "val unionList2 = list3.union(list4).sorted\n",
    "println(unionList2) // Prints: List(1, 2, 3, 4, 5, 6)\n",
    "\n",
    "val list5 = List(1, 2, 3)\n",
    "val list6 = List(3, 4, 5)\n",
    "val unionList3 = (list5 ++ list6).distinct.sorted\n",
    "println(unionList3) // Prints: List(1, 2, 3, 4, 5)\n"
   ]
  },
  {
   "cell_type": "code",
   "execution_count": 10,
   "id": "b589ebbb",
   "metadata": {},
   "outputs": [
    {
     "name": "stdout",
     "output_type": "stream",
     "text": [
      "List(1, 2)\n",
      "List(6, 7)\n"
     ]
    },
    {
     "data": {
      "text/plain": [
       "\u001b[36mlist1\u001b[39m: \u001b[32mList\u001b[39m[\u001b[32mInt\u001b[39m] = \u001b[33mList\u001b[39m(\u001b[32m1\u001b[39m, \u001b[32m2\u001b[39m, \u001b[32m3\u001b[39m, \u001b[32m4\u001b[39m, \u001b[32m5\u001b[39m)\n",
       "\u001b[36mlist2\u001b[39m: \u001b[32mList\u001b[39m[\u001b[32mInt\u001b[39m] = \u001b[33mList\u001b[39m(\u001b[32m3\u001b[39m, \u001b[32m4\u001b[39m, \u001b[32m5\u001b[39m, \u001b[32m6\u001b[39m, \u001b[32m7\u001b[39m)\n",
       "\u001b[36mdifferenceList1\u001b[39m: \u001b[32mList\u001b[39m[\u001b[32mInt\u001b[39m] = \u001b[33mList\u001b[39m(\u001b[32m1\u001b[39m, \u001b[32m2\u001b[39m)\n",
       "\u001b[36mlist3\u001b[39m: \u001b[32mList\u001b[39m[\u001b[32mInt\u001b[39m] = \u001b[33mList\u001b[39m(\u001b[32m1\u001b[39m, \u001b[32m2\u001b[39m, \u001b[32m3\u001b[39m, \u001b[32m4\u001b[39m, \u001b[32m5\u001b[39m)\n",
       "\u001b[36mlist4\u001b[39m: \u001b[32mList\u001b[39m[\u001b[32mInt\u001b[39m] = \u001b[33mList\u001b[39m(\u001b[32m3\u001b[39m, \u001b[32m4\u001b[39m, \u001b[32m5\u001b[39m, \u001b[32m6\u001b[39m, \u001b[32m7\u001b[39m)\n",
       "\u001b[36mdifferenceList2\u001b[39m: \u001b[32mList\u001b[39m[\u001b[32mInt\u001b[39m] = \u001b[33mList\u001b[39m(\u001b[32m6\u001b[39m, \u001b[32m7\u001b[39m)"
      ]
     },
     "execution_count": 10,
     "metadata": {},
     "output_type": "execute_result"
    }
   ],
   "source": [
    "// SortedList.Diff\n",
    "\n",
    "val list1 = List(1, 2, 3, 4, 5)\n",
    "val list2 = List(3, 4, 5, 6, 7)\n",
    "val differenceList1 = list1 diff list2\n",
    "println(differenceList1) // Prints: List(1, 2)\n",
    "\n",
    "val list3 = List(1, 2, 3, 4, 5)\n",
    "val list4 = List(3, 4, 5, 6, 7)\n",
    "val differenceList2 = list4 diff list3\n",
    "println(differenceList2) // Prints: List(6, 7)\n"
   ]
  },
  {
   "cell_type": "code",
   "execution_count": 11,
   "id": "ed9f8138",
   "metadata": {},
   "outputs": [
    {
     "name": "stdout",
     "output_type": "stream",
     "text": [
      "List(1, 2, 3, 4)\n"
     ]
    },
    {
     "data": {
      "text/plain": [
       "defined \u001b[32mfunction\u001b[39m \u001b[36minsertionSort\u001b[39m\n",
       "\u001b[36munsortedList\u001b[39m: \u001b[32mList\u001b[39m[\u001b[32mInt\u001b[39m] = \u001b[33mList\u001b[39m(\u001b[32m4\u001b[39m, \u001b[32m3\u001b[39m, \u001b[32m2\u001b[39m, \u001b[32m1\u001b[39m)\n",
       "\u001b[36msortedList\u001b[39m: \u001b[32mList\u001b[39m[\u001b[32mInt\u001b[39m] = \u001b[33mList\u001b[39m(\u001b[32m1\u001b[39m, \u001b[32m2\u001b[39m, \u001b[32m3\u001b[39m, \u001b[32m4\u001b[39m)"
      ]
     },
     "execution_count": 11,
     "metadata": {},
     "output_type": "execute_result"
    }
   ],
   "source": [
    "// SortedList.InsertionSort\n",
    "\n",
    "def insertionSort[A](list: List[A])(implicit ord: Ordering[A]): List[A] = {\n",
    "\n",
    "  def insert(value: A, sortedList: List[A]): List[A] = sortedList match {\n",
    "    case Nil => List(value)\n",
    "    case head :: tail if ord.gt(head, value) => value :: sortedList\n",
    "    case head :: tail => head :: insert(value, tail)\n",
    "  }\n",
    "\n",
    "  list.foldLeft(List.empty[A])( (acc, i) => insert(i, acc) )\n",
    "}\n",
    "\n",
    "val unsortedList = List(4, 3, 2, 1)\n",
    "val sortedList = insertionSort(unsortedList)\n",
    "println(sortedList) // Prints: List(1, 2, 3, 4)\n"
   ]
  },
  {
   "cell_type": "code",
   "execution_count": 12,
   "id": "daa76daf",
   "metadata": {},
   "outputs": [
    {
     "name": "stdout",
     "output_type": "stream",
     "text": [
      "List(1, 2, 3, 4)\n"
     ]
    },
    {
     "data": {
      "text/plain": [
       "defined \u001b[32mfunction\u001b[39m \u001b[36mmergeSort\u001b[39m\n",
       "\u001b[36munsortedList\u001b[39m: \u001b[32mList\u001b[39m[\u001b[32mInt\u001b[39m] = \u001b[33mList\u001b[39m(\u001b[32m4\u001b[39m, \u001b[32m3\u001b[39m, \u001b[32m2\u001b[39m, \u001b[32m1\u001b[39m)\n",
       "\u001b[36msortedList\u001b[39m: \u001b[32mList\u001b[39m[\u001b[32mInt\u001b[39m] = \u001b[33mList\u001b[39m(\u001b[32m1\u001b[39m, \u001b[32m2\u001b[39m, \u001b[32m3\u001b[39m, \u001b[32m4\u001b[39m)"
      ]
     },
     "execution_count": 12,
     "metadata": {},
     "output_type": "execute_result"
    }
   ],
   "source": [
    "// SortedList.MergeSort\n",
    "\n",
    "def mergeSort[A](list: List[A])(implicit ord: Ordering[A]): List[A] = {\n",
    "\n",
    "  def merge(left: List[A], right: List[A]): List[A] = (left, right) match {\n",
    "    case (Nil, _) => right\n",
    "    case (_, Nil) => left\n",
    "    case (lHead :: lTail, rHead :: rTail) =>\n",
    "      if (ord.lteq(lHead, rHead)) lHead :: merge(lTail, right)\n",
    "      else rHead :: merge(left, rTail)\n",
    "  }\n",
    "\n",
    "  val n = list.length / 2\n",
    "  if (n == 0) list\n",
    "  else {\n",
    "    val (left, right) = list.splitAt(n)\n",
    "    merge(mergeSort(left), mergeSort(right))\n",
    "  }\n",
    "}\n",
    "\n",
    "val unsortedList = List(4, 3, 2, 1)\n",
    "val sortedList = mergeSort(unsortedList)\n",
    "println(sortedList) // Prints: List(1, 2, 3, 4)\n"
   ]
  },
  {
   "cell_type": "markdown",
   "id": "b4af9d5a",
   "metadata": {},
   "source": [
    "## StrictSortedList Operations"
   ]
  },
  {
   "cell_type": "code",
   "execution_count": 13,
   "id": "5798a60e",
   "metadata": {},
   "outputs": [
    {
     "name": "stdout",
     "output_type": "stream",
     "text": [
      "List(1, 2, 3, 4, 5)\n",
      "List(1, 2, 3, 4, 5, 6)\n"
     ]
    },
    {
     "data": {
      "text/plain": [
       "defined \u001b[32mfunction\u001b[39m \u001b[36minsertIntoStrictlySortedList\u001b[39m\n",
       "\u001b[36mstrictlySortedList\u001b[39m: \u001b[32mList\u001b[39m[\u001b[32mInt\u001b[39m] = \u001b[33mList\u001b[39m(\u001b[32m1\u001b[39m, \u001b[32m2\u001b[39m, \u001b[32m3\u001b[39m, \u001b[32m4\u001b[39m, \u001b[32m5\u001b[39m)\n",
       "\u001b[36mupdatedList\u001b[39m: \u001b[32mList\u001b[39m[\u001b[32mInt\u001b[39m] = \u001b[33mList\u001b[39m(\u001b[32m1\u001b[39m, \u001b[32m2\u001b[39m, \u001b[32m3\u001b[39m, \u001b[32m4\u001b[39m, \u001b[32m5\u001b[39m)\n",
       "\u001b[36mupdatedList2\u001b[39m: \u001b[32mList\u001b[39m[\u001b[32mInt\u001b[39m] = \u001b[33mList\u001b[39m(\u001b[32m1\u001b[39m, \u001b[32m2\u001b[39m, \u001b[32m3\u001b[39m, \u001b[32m4\u001b[39m, \u001b[32m5\u001b[39m, \u001b[32m6\u001b[39m)"
      ]
     },
     "execution_count": 13,
     "metadata": {},
     "output_type": "execute_result"
    }
   ],
   "source": [
    "// StrictSortedList.Insert\n",
    "\n",
    "def insertIntoStrictlySortedList[A](list: List[A], value: A)(implicit ord: Ordering[A]): List[A] = {\n",
    "  if (!list.contains(value)) {\n",
    "    val index = list.indexWhere(ord.gt(_, value))\n",
    "    if (index < 0) list :+ value\n",
    "    else {\n",
    "      val (front, back) = list.splitAt(index)\n",
    "      front ++ (value :: back)\n",
    "    }\n",
    "  } else list // return original list if value is already present\n",
    "}\n",
    "\n",
    "val strictlySortedList = List(1, 2, 3, 4, 5)\n",
    "val updatedList = insertIntoStrictlySortedList(strictlySortedList, 3)\n",
    "println(updatedList) // Prints: List(1, 2, 3, 4, 5) because 3 is already in the list\n",
    "\n",
    "val updatedList2 = insertIntoStrictlySortedList(strictlySortedList, 6)\n",
    "println(updatedList2) // Prints: List(1, 2, 3, 4, 5, 6) because 6 is not in the list\n"
   ]
  },
  {
   "cell_type": "code",
   "execution_count": 14,
   "id": "e5e69b13",
   "metadata": {},
   "outputs": [
    {
     "name": "stdout",
     "output_type": "stream",
     "text": [
      "List(1, 2, 4, 5)\n"
     ]
    },
    {
     "data": {
      "text/plain": [
       "defined \u001b[32mfunction\u001b[39m \u001b[36mremoveFromStrictlySortedList\u001b[39m\n",
       "\u001b[36mstrictlySortedList\u001b[39m: \u001b[32mList\u001b[39m[\u001b[32mInt\u001b[39m] = \u001b[33mList\u001b[39m(\u001b[32m1\u001b[39m, \u001b[32m2\u001b[39m, \u001b[32m3\u001b[39m, \u001b[32m4\u001b[39m, \u001b[32m5\u001b[39m)\n",
       "\u001b[36mupdatedList\u001b[39m: \u001b[32mList\u001b[39m[\u001b[32mInt\u001b[39m] = \u001b[33mList\u001b[39m(\u001b[32m1\u001b[39m, \u001b[32m2\u001b[39m, \u001b[32m4\u001b[39m, \u001b[32m5\u001b[39m)"
      ]
     },
     "execution_count": 14,
     "metadata": {},
     "output_type": "execute_result"
    }
   ],
   "source": [
    "// StrictSortedList.Delete\n",
    "\n",
    "def removeFromStrictlySortedList[A](list: List[A], value: A): List[A] = {\n",
    "  list.filterNot(_ == value)\n",
    "}\n",
    "\n",
    "\n",
    "val strictlySortedList = List(1, 2, 3, 4, 5)\n",
    "val updatedList = removeFromStrictlySortedList(strictlySortedList, 3)\n",
    "println(updatedList) // Prints: List(1, 2, 4, 5)\n"
   ]
  },
  {
   "cell_type": "code",
   "execution_count": 15,
   "id": "e278d1d6",
   "metadata": {},
   "outputs": [
    {
     "name": "stdout",
     "output_type": "stream",
     "text": [
      "List(1, 2, 3, 4, 5, 6)\n",
      "List(1, 2, 3, 4, 5, 6)\n"
     ]
    },
    {
     "data": {
      "text/plain": [
       "\u001b[36mlist1\u001b[39m: \u001b[32mList\u001b[39m[\u001b[32mInt\u001b[39m] = \u001b[33mList\u001b[39m(\u001b[32m1\u001b[39m, \u001b[32m2\u001b[39m, \u001b[32m3\u001b[39m)\n",
       "\u001b[36mlist2\u001b[39m: \u001b[32mList\u001b[39m[\u001b[32mInt\u001b[39m] = \u001b[33mList\u001b[39m(\u001b[32m4\u001b[39m, \u001b[32m5\u001b[39m, \u001b[32m6\u001b[39m)\n",
       "\u001b[36munionList1\u001b[39m: \u001b[32mList\u001b[39m[\u001b[32mInt\u001b[39m] = \u001b[33mList\u001b[39m(\u001b[32m1\u001b[39m, \u001b[32m2\u001b[39m, \u001b[32m3\u001b[39m, \u001b[32m4\u001b[39m, \u001b[32m5\u001b[39m, \u001b[32m6\u001b[39m)\n",
       "\u001b[36mlist3\u001b[39m: \u001b[32mList\u001b[39m[\u001b[32mInt\u001b[39m] = \u001b[33mList\u001b[39m(\u001b[32m1\u001b[39m, \u001b[32m2\u001b[39m, \u001b[32m3\u001b[39m)\n",
       "\u001b[36mlist4\u001b[39m: \u001b[32mList\u001b[39m[\u001b[32mInt\u001b[39m] = \u001b[33mList\u001b[39m(\u001b[32m4\u001b[39m, \u001b[32m5\u001b[39m, \u001b[32m6\u001b[39m)\n",
       "\u001b[36munionList2\u001b[39m: \u001b[32mList\u001b[39m[\u001b[32mInt\u001b[39m] = \u001b[33mList\u001b[39m(\u001b[32m1\u001b[39m, \u001b[32m2\u001b[39m, \u001b[32m3\u001b[39m, \u001b[32m4\u001b[39m, \u001b[32m5\u001b[39m, \u001b[32m6\u001b[39m)"
      ]
     },
     "execution_count": 15,
     "metadata": {},
     "output_type": "execute_result"
    }
   ],
   "source": [
    "// StrictSortedList.Union\n",
    "\n",
    "val list1 = List(1, 2, 3)\n",
    "val list2 = List(4, 5, 6)\n",
    "val unionList1 = (list1 ++ list2).distinct.sorted\n",
    "println(unionList1) // Prints: List(1, 2, 3, 4, 5, 6)\n",
    "\n",
    "val list3 = List(1, 2, 3)\n",
    "val list4 = List(4, 5, 6)\n",
    "val unionList2 = list3.union(list4).distinct.sorted\n",
    "println(unionList2) // Prints: List(1, 2, 3, 4, 5, 6)\n"
   ]
  },
  {
   "cell_type": "markdown",
   "id": "8b9e160f",
   "metadata": {},
   "source": [
    "## UnaryNumerals Operations"
   ]
  },
  {
   "cell_type": "code",
   "execution_count": 16,
   "id": "b6a04b00",
   "metadata": {},
   "outputs": [
    {
     "name": "stdout",
     "output_type": "stream",
     "text": [
      "11111\n"
     ]
    },
    {
     "data": {
      "text/plain": [
       "defined \u001b[32mfunction\u001b[39m \u001b[36munaryAdd\u001b[39m\n",
       "\u001b[36mnum1\u001b[39m: \u001b[32mString\u001b[39m = \u001b[32m\"111\"\u001b[39m\n",
       "\u001b[36mnum2\u001b[39m: \u001b[32mString\u001b[39m = \u001b[32m\"11\"\u001b[39m\n",
       "\u001b[36msum\u001b[39m: \u001b[32mString\u001b[39m = \u001b[32m\"11111\"\u001b[39m"
      ]
     },
     "execution_count": 16,
     "metadata": {},
     "output_type": "execute_result"
    }
   ],
   "source": [
    "// UnaryNumerals.Add\n",
    "\n",
    "\n",
    "/*\n",
    "A unary numeral system is the simplest numeral system to represent natural numbers. \n",
    "In this system, a number is represented by as many symbols (commonly \"1\") as the value of the number. \n",
    "For example, the number five is represented as \"11111\".\n",
    "*/\n",
    "\n",
    "def unaryAdd(num1: String, num2: String): String = {\n",
    "  num1 + num2\n",
    "}\n",
    "\n",
    "val num1 = \"111\" // Represents the number 3\n",
    "val num2 = \"11\"  // Represents the number 2\n",
    "val sum = unaryAdd(num1, num2)\n",
    "println(sum) // Prints: 11111 which represents the number 5\n"
   ]
  },
  {
   "cell_type": "code",
   "execution_count": 17,
   "id": "ff2410d5",
   "metadata": {},
   "outputs": [
    {
     "name": "stdout",
     "output_type": "stream",
     "text": [
      "true\n"
     ]
    },
    {
     "data": {
      "text/plain": [
       "defined \u001b[32mfunction\u001b[39m \u001b[36munaryDistinct\u001b[39m\n",
       "\u001b[36mnum1\u001b[39m: \u001b[32mString\u001b[39m = \u001b[32m\"111\"\u001b[39m\n",
       "\u001b[36mnum2\u001b[39m: \u001b[32mString\u001b[39m = \u001b[32m\"11\"\u001b[39m\n",
       "\u001b[36misDistinct\u001b[39m: \u001b[32mBoolean\u001b[39m = true"
      ]
     },
     "execution_count": 17,
     "metadata": {},
     "output_type": "execute_result"
    }
   ],
   "source": [
    "// UnaryNumerals.Distinct\n",
    "\n",
    "def unaryDistinct(num1: String, num2: String): Boolean = {\n",
    "  num1.length != num2.length\n",
    "}\n",
    "\n",
    "val num1 = \"111\" // Represents the number 3\n",
    "val num2 = \"11\"  // Represents the number 2\n",
    "val isDistinct = unaryDistinct(num1, num2)\n",
    "println(isDistinct) // Prints: true\n"
   ]
  },
  {
   "cell_type": "code",
   "execution_count": 18,
   "id": "716c6245",
   "metadata": {},
   "outputs": [
    {
     "name": "stdout",
     "output_type": "stream",
     "text": [
      "111111\n"
     ]
    },
    {
     "data": {
      "text/plain": [
       "defined \u001b[32mfunction\u001b[39m \u001b[36munaryMult\u001b[39m\n",
       "\u001b[36mnum1\u001b[39m: \u001b[32mString\u001b[39m = \u001b[32m\"11\"\u001b[39m\n",
       "\u001b[36mnum2\u001b[39m: \u001b[32mString\u001b[39m = \u001b[32m\"111\"\u001b[39m\n",
       "\u001b[36mproduct\u001b[39m: \u001b[32mString\u001b[39m = \u001b[32m\"111111\"\u001b[39m"
      ]
     },
     "execution_count": 18,
     "metadata": {},
     "output_type": "execute_result"
    }
   ],
   "source": [
    "// UnaryNumerals.Mult\n",
    "\n",
    "def unaryMult(num1: String, num2: String): String = {\n",
    "  num1 * num2.length\n",
    "}\n",
    "\n",
    "val num1 = \"11\"  // Represents the number 2\n",
    "val num2 = \"111\" // Represents the number 3\n",
    "val product = unaryMult(num1, num2)\n",
    "println(product) // Prints: 111111 which represents the number 6\n"
   ]
  },
  {
   "cell_type": "markdown",
   "id": "c77b5170",
   "metadata": {},
   "source": [
    "## BatchedQueue Operations"
   ]
  },
  {
   "cell_type": "code",
   "execution_count": 20,
   "id": "a03ce308",
   "metadata": {},
   "outputs": [
    {
     "name": "stdout",
     "output_type": "stream",
     "text": [
      "List(3, 2, 1)\n",
      "List()\n"
     ]
    },
    {
     "data": {
      "text/plain": [
       "defined \u001b[32mclass\u001b[39m \u001b[36mBatchedQueue\u001b[39m\n",
       "\u001b[36mqueue\u001b[39m: \u001b[32mBatchedQueue\u001b[39m[\u001b[32mInt\u001b[39m] = \u001b[33mBatchedQueue\u001b[39m(\u001b[33mList\u001b[39m(), \u001b[33mList\u001b[39m(\u001b[32m1\u001b[39m, \u001b[32m2\u001b[39m, \u001b[32m3\u001b[39m))\n",
       "\u001b[36mnewQueue\u001b[39m: \u001b[32mBatchedQueue\u001b[39m[\u001b[32mInt\u001b[39m] = \u001b[33mBatchedQueue\u001b[39m(\u001b[33mList\u001b[39m(\u001b[32m3\u001b[39m, \u001b[32m2\u001b[39m, \u001b[32m1\u001b[39m), \u001b[33mList\u001b[39m())"
      ]
     },
     "execution_count": 20,
     "metadata": {},
     "output_type": "execute_result"
    }
   ],
   "source": [
    "/*\n",
    "Assuming you have a BatchedQueue class with two lists f and r, \n",
    "the checkf function might be used to check if f is empty and, \n",
    "if it is, replace it with the reverse of r and set r as an empty list. \n",
    "*/\n",
    "\n",
    "// This implementation seems to be wrong\n",
    "\n",
    "case class BatchedQueue[A](f: List[A], r: List[A]) {\n",
    "  def checkf: BatchedQueue[A] = f match {\n",
    "    case Nil => BatchedQueue(r.reverse, Nil)\n",
    "    case _ => this\n",
    "  }\n",
    "}\n",
    "\n",
    "\n",
    "val queue = BatchedQueue(List(), List(1, 2, 3))\n",
    "val newQueue = queue.checkf\n",
    "println(newQueue.f)  // Prints: List(3, 2, 1)\n",
    "println(newQueue.r)  // Prints: List()\n"
   ]
  },
  {
   "cell_type": "code",
   "execution_count": 21,
   "id": "6c01821e",
   "metadata": {},
   "outputs": [
    {
     "name": "stdout",
     "output_type": "stream",
     "text": [
      "List(1, 2, 3)\n",
      "List(6, 4, 5)\n"
     ]
    },
    {
     "data": {
      "text/plain": [
       "defined \u001b[32mclass\u001b[39m \u001b[36mBatchedQueue\u001b[39m\n",
       "\u001b[36mqueue\u001b[39m: \u001b[32mBatchedQueue\u001b[39m[\u001b[32mInt\u001b[39m] = \u001b[33mBatchedQueue\u001b[39m(\u001b[33mList\u001b[39m(\u001b[32m1\u001b[39m, \u001b[32m2\u001b[39m, \u001b[32m3\u001b[39m), \u001b[33mList\u001b[39m(\u001b[32m4\u001b[39m, \u001b[32m5\u001b[39m))\n",
       "\u001b[36mnewQueue\u001b[39m: \u001b[32mBatchedQueue\u001b[39m[\u001b[32mInt\u001b[39m] = \u001b[33mBatchedQueue\u001b[39m(\u001b[33mList\u001b[39m(\u001b[32m1\u001b[39m, \u001b[32m2\u001b[39m, \u001b[32m3\u001b[39m), \u001b[33mList\u001b[39m(\u001b[32m6\u001b[39m, \u001b[32m4\u001b[39m, \u001b[32m5\u001b[39m))"
      ]
     },
     "execution_count": 21,
     "metadata": {},
     "output_type": "execute_result"
    }
   ],
   "source": [
    "\n",
    "// This implementation seems to be wrong.\n",
    "\n",
    "case class BatchedQueue[A](f: List[A], r: List[A]) {\n",
    "\n",
    "  def snoc(x: A): BatchedQueue[A] = checkf match {\n",
    "    case BatchedQueue(Nil, _) => BatchedQueue(List(x), Nil)\n",
    "    case BatchedQueue(front, rear) => BatchedQueue(front, x :: rear)\n",
    "  }\n",
    "\n",
    "  def checkf: BatchedQueue[A] = f match {\n",
    "    case Nil => BatchedQueue(r.reverse, Nil)\n",
    "    case _ => this\n",
    "  }\n",
    "\n",
    "}\n",
    "\n",
    "val queue = BatchedQueue(List(1, 2, 3), List(4, 5))\n",
    "val newQueue = queue.snoc(6)\n",
    "println(newQueue.f)  // Prints: List(1, 2, 3)\n",
    "println(newQueue.r)  // Prints: List(4, 5, 6)\n"
   ]
  },
  {
   "cell_type": "markdown",
   "id": "d1c7455c",
   "metadata": {},
   "source": [
    "## AddressBook Operations"
   ]
  },
  {
   "cell_type": "code",
   "execution_count": 23,
   "id": "8f4183b8",
   "metadata": {},
   "outputs": [
    {
     "name": "stdout",
     "output_type": "stream",
     "text": [
      "List(Contact(Alice Johnson,5555555555,alice@example.com), Contact(John Doe,1234567890,john@example.com), Contact(Jane Smith,9876543210,jane@example.com))\n"
     ]
    },
    {
     "data": {
      "text/plain": [
       "defined \u001b[32mclass\u001b[39m \u001b[36mContact\u001b[39m\n",
       "defined \u001b[32mclass\u001b[39m \u001b[36mAddressBook\u001b[39m\n",
       "\u001b[36maddressBook\u001b[39m: \u001b[32mAddressBook\u001b[39m = ammonite.$sess.cmd22$Helper$AddressBook@34a2c82e\n",
       "\u001b[36mnewContact\u001b[39m: \u001b[32mContact\u001b[39m = \u001b[33mContact\u001b[39m(\n",
       "  \u001b[32m\"Alice Johnson\"\u001b[39m,\n",
       "  \u001b[32m\"5555555555\"\u001b[39m,\n",
       "  \u001b[32m\"alice@example.com\"\u001b[39m\n",
       ")\n",
       "\u001b[36mupdatedAddressBook\u001b[39m: \u001b[32mAddressBook\u001b[39m = ammonite.$sess.cmd22$Helper$AddressBook@2969cd3d"
      ]
     },
     "execution_count": 23,
     "metadata": {},
     "output_type": "execute_result"
    }
   ],
   "source": [
    "// AddressBook.Make\n",
    "\n",
    "case class Contact(name: String, phoneNumber: String, email: String)\n",
    "\n",
    "class AddressBook(private val contacts: List[Contact]) {\n",
    "\n",
    "  def addContact(contact: Contact): AddressBook = {\n",
    "    new AddressBook(contact :: contacts)\n",
    "  }\n",
    "\n",
    "  def removeContact(contact: Contact): AddressBook = {\n",
    "    new AddressBook(contacts.filterNot(_ == contact))\n",
    "  }\n",
    "\n",
    "  def getAllContacts: List[Contact] = {\n",
    "    contacts\n",
    "  }\n",
    "\n",
    "  def getContactsByName(name: String): List[Contact] = {\n",
    "    contacts.filter(_.name.toLowerCase.contains(name.toLowerCase))\n",
    "  }\n",
    "\n",
    "  def getContactsByEmail(email: String): List[Contact] = {\n",
    "    contacts.filter(_.email.toLowerCase.contains(email.toLowerCase))\n",
    "  }\n",
    "}\n",
    "\n",
    "val addressBook = new AddressBook(List(\n",
    "  Contact(\"John Doe\", \"1234567890\", \"john@example.com\"),\n",
    "  Contact(\"Jane Smith\", \"9876543210\", \"jane@example.com\")\n",
    "))\n",
    "\n",
    "val newContact = Contact(\"Alice Johnson\", \"5555555555\", \"alice@example.com\")\n",
    "val updatedAddressBook = addressBook.addContact(newContact)\n",
    "\n",
    "println(updatedAddressBook.getAllContacts) // Prints: List(Contact(John Doe,1234567890,john@example.com), Contact(Jane Smith,9876543210,jane@example.com), Contact(Alice Johnson,5555555555,alice@example.com))\n"
   ]
  },
  {
   "cell_type": "code",
   "execution_count": 24,
   "id": "ed26c64f",
   "metadata": {},
   "outputs": [
    {
     "name": "stdout",
     "output_type": "stream",
     "text": [
      "List(Contact(John Doe,1234567890,john@example.com), Contact(Jane Smith,9876543210,jane@example.com))\n",
      "List()\n"
     ]
    },
    {
     "data": {
      "text/plain": [
       "defined \u001b[32mclass\u001b[39m \u001b[36mContact\u001b[39m\n",
       "defined \u001b[32mclass\u001b[39m \u001b[36mAddressBook\u001b[39m\n",
       "defined \u001b[32mobject\u001b[39m \u001b[36mAddressBookHelpers\u001b[39m\n",
       "\u001b[36minitialContacts\u001b[39m: \u001b[32mList\u001b[39m[\u001b[32mContact\u001b[39m] = \u001b[33mList\u001b[39m(\n",
       "  \u001b[33mContact\u001b[39m(\u001b[32m\"John Doe\"\u001b[39m, \u001b[32m\"1234567890\"\u001b[39m, \u001b[32m\"john@example.com\"\u001b[39m),\n",
       "  \u001b[33mContact\u001b[39m(\u001b[32m\"Jane Smith\"\u001b[39m, \u001b[32m\"9876543210\"\u001b[39m, \u001b[32m\"jane@example.com\"\u001b[39m)\n",
       ")\n",
       "\u001b[36maddressBook\u001b[39m: \u001b[32mAddressBook\u001b[39m = ammonite.$sess.cmd23$Helper$AddressBook@33dfd9ed\n",
       "\u001b[36memptyAddressBook\u001b[39m: \u001b[32mAddressBook\u001b[39m = ammonite.$sess.cmd23$Helper$AddressBook@3226b901"
      ]
     },
     "execution_count": 24,
     "metadata": {},
     "output_type": "execute_result"
    }
   ],
   "source": [
    "// AddressBook.MakeHelpers\n",
    "\n",
    "case class Contact(name: String, phoneNumber: String, email: String)\n",
    "\n",
    "class AddressBook(private val contacts: List[Contact]) {\n",
    "\n",
    "  def addContact(contact: Contact): AddressBook = {\n",
    "    new AddressBook(contact :: contacts)\n",
    "  }\n",
    "\n",
    "  def removeContact(contact: Contact): AddressBook = {\n",
    "    new AddressBook(contacts.filterNot(_ == contact))\n",
    "  }\n",
    "\n",
    "  def getAllContacts: List[Contact] = {\n",
    "    contacts\n",
    "  }\n",
    "\n",
    "  def getContactsByName(name: String): List[Contact] = {\n",
    "    contacts.filter(_.name.toLowerCase.contains(name.toLowerCase))\n",
    "  }\n",
    "\n",
    "  def getContactsByEmail(email: String): List[Contact] = {\n",
    "    contacts.filter(_.email.toLowerCase.contains(email.toLowerCase))\n",
    "  }\n",
    "}\n",
    "\n",
    "object AddressBookHelpers {\n",
    "  def make(initialContacts: List[Contact]): AddressBook = {\n",
    "    new AddressBook(initialContacts)\n",
    "  }\n",
    "\n",
    "  def empty: AddressBook = {\n",
    "    new AddressBook(Nil)\n",
    "  }\n",
    "}\n",
    "\n",
    "val initialContacts = List(\n",
    "  Contact(\"John Doe\", \"1234567890\", \"john@example.com\"),\n",
    "  Contact(\"Jane Smith\", \"9876543210\", \"jane@example.com\")\n",
    ")\n",
    "\n",
    "val addressBook = AddressBookHelpers.make(initialContacts)\n",
    "val emptyAddressBook = AddressBookHelpers.empty\n",
    "\n",
    "println(addressBook.getAllContacts)       // Prints: List(Contact(John Doe,1234567890,john@example.com), Contact(Jane Smith,9876543210,jane@example.com))\n",
    "println(emptyAddressBook.getAllContacts)  // Prints: List()\n"
   ]
  },
  {
   "cell_type": "code",
   "execution_count": 25,
   "id": "6160a199",
   "metadata": {},
   "outputs": [
    {
     "name": "stdout",
     "output_type": "stream",
     "text": [
      "List(Contact(John Doe,1234567890,john@example.com), Contact(Jane Smith,9876543210,jane@example.com), Contact(Alice Johnson,5555555555,alice@example.com), Contact(Bob Williams,9998887777,bob@example.com))\n"
     ]
    },
    {
     "data": {
      "text/plain": [
       "defined \u001b[32mclass\u001b[39m \u001b[36mContact\u001b[39m\n",
       "defined \u001b[32mclass\u001b[39m \u001b[36mAddressBook\u001b[39m\n",
       "\u001b[36maddressBook1\u001b[39m: \u001b[32mAddressBook\u001b[39m = ammonite.$sess.cmd24$Helper$AddressBook@6b4d931c\n",
       "\u001b[36maddressBook2\u001b[39m: \u001b[32mAddressBook\u001b[39m = ammonite.$sess.cmd24$Helper$AddressBook@68a1356a\n",
       "\u001b[36mmergedAddressBook\u001b[39m: \u001b[32mAddressBook\u001b[39m = ammonite.$sess.cmd24$Helper$AddressBook@4a1aadce\n",
       "\u001b[36mallContacts\u001b[39m: \u001b[32mList\u001b[39m[\u001b[32mContact\u001b[39m] = \u001b[33mList\u001b[39m(\n",
       "  \u001b[33mContact\u001b[39m(\u001b[32m\"John Doe\"\u001b[39m, \u001b[32m\"1234567890\"\u001b[39m, \u001b[32m\"john@example.com\"\u001b[39m),\n",
       "  \u001b[33mContact\u001b[39m(\u001b[32m\"Jane Smith\"\u001b[39m, \u001b[32m\"9876543210\"\u001b[39m, \u001b[32m\"jane@example.com\"\u001b[39m),\n",
       "  \u001b[33mContact\u001b[39m(\u001b[32m\"Alice Johnson\"\u001b[39m, \u001b[32m\"5555555555\"\u001b[39m, \u001b[32m\"alice@example.com\"\u001b[39m),\n",
       "  \u001b[33mContact\u001b[39m(\u001b[32m\"Bob Williams\"\u001b[39m, \u001b[32m\"9998887777\"\u001b[39m, \u001b[32m\"bob@example.com\"\u001b[39m)\n",
       ")"
      ]
     },
     "execution_count": 25,
     "metadata": {},
     "output_type": "execute_result"
    }
   ],
   "source": [
    "// AddressBook.Merge\n",
    "\n",
    "case class Contact(name: String, phoneNumber: String, email: String)\n",
    "\n",
    "class AddressBook(private val contacts: List[Contact]) {\n",
    "\n",
    "  def addContact(contact: Contact): AddressBook = {\n",
    "    new AddressBook(contact :: contacts)\n",
    "  }\n",
    "\n",
    "  def removeContact(contact: Contact): AddressBook = {\n",
    "    new AddressBook(contacts.filterNot(_ == contact))\n",
    "  }\n",
    "\n",
    "  def getAllContacts: List[Contact] = {\n",
    "    contacts\n",
    "  }\n",
    "\n",
    "  def merge(other: AddressBook): AddressBook = {\n",
    "    new AddressBook(contacts ++ other.contacts)\n",
    "  }\n",
    "}\n",
    "\n",
    "val addressBook1 = new AddressBook(List(\n",
    "  Contact(\"John Doe\", \"1234567890\", \"john@example.com\"),\n",
    "  Contact(\"Jane Smith\", \"9876543210\", \"jane@example.com\")\n",
    "))\n",
    "\n",
    "val addressBook2 = new AddressBook(List(\n",
    "  Contact(\"Alice Johnson\", \"5555555555\", \"alice@example.com\"),\n",
    "  Contact(\"Bob Williams\", \"9998887777\", \"bob@example.com\")\n",
    "))\n",
    "\n",
    "val mergedAddressBook = addressBook1.merge(addressBook2)\n",
    "val allContacts = mergedAddressBook.getAllContacts\n",
    "println(allContacts)\n"
   ]
  },
  {
   "cell_type": "code",
   "execution_count": null,
   "id": "6de2c580",
   "metadata": {},
   "outputs": [],
   "source": []
  }
 ],
 "metadata": {
  "kernelspec": {
   "display_name": "Scala",
   "language": "scala",
   "name": "scala"
  },
  "language_info": {
   "codemirror_mode": "text/x-scala",
   "file_extension": ".sc",
   "mimetype": "text/x-scala",
   "name": "scala",
   "nbconvert_exporter": "script",
   "version": "2.13.3"
  }
 },
 "nbformat": 4,
 "nbformat_minor": 5
}
