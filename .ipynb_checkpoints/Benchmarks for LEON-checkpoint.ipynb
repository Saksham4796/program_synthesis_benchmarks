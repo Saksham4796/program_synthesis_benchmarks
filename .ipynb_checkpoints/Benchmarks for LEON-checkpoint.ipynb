{
 "cells": [
  {
   "cell_type": "code",
   "execution_count": null,
   "id": "3fe24363",
   "metadata": {},
   "outputs": [],
   "source": [
    "// List.Insert\n",
    "\n",
    "def insertAt[A](list: List[A], index: Int, value: A): List[A] = {\n",
    "  val (front, back) = list.splitAt(index)\n",
    "  front ++ (value :: back)\n",
    "}\n",
    "\n",
    "This function will split the list at the given index, \n",
    "create two separate lists, and then concatenate three lists together: \n",
    "the first part of the split, a list containing the new element, and the second part of the split. \n",
    "If the index is out of range, the function will either prepend or append the element to the list.\n",
    "val myList = List(1, 2, 3, 4, 5)\n",
    "val updatedList = insertAt(myList, 2, 10)\n",
    "println(updatedList) // Prints: List(1, 2, 10, 3, 4, 5)\n"
   ]
  }
 ],
 "metadata": {
  "kernelspec": {
   "display_name": "Scala",
   "language": "scala",
   "name": "scala"
  },
  "language_info": {
   "codemirror_mode": "text/x-scala",
   "file_extension": ".sc",
   "mimetype": "text/x-scala",
   "name": "scala",
   "nbconvert_exporter": "script",
   "version": "2.13.3"
  }
 },
 "nbformat": 4,
 "nbformat_minor": 5
}
